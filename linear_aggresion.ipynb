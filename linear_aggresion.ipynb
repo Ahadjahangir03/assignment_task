{
  "nbformat": 4,
  "nbformat_minor": 0,
  "metadata": {
    "colab": {
      "provenance": []
    },
    "kernelspec": {
      "name": "python3",
      "display_name": "Python 3"
    },
    "language_info": {
      "name": "python"
    }
  },
  "cells": [
    {
      "cell_type": "code",
      "execution_count": 21,
      "metadata": {
        "id": "Q-Ig_Tlek6l_"
      },
      "outputs": [],
      "source": [
        "import pandas as pd\n",
        "import xgboost as xgb\n",
        "from sklearn.model_selection import train_test_split\n",
        "from sklearn.linear_model import LinearRegression\n",
        "from sklearn.metrics import mean_squared_error\n",
        "from datetime import datetime\n",
        "import numpy as np"
      ]
    },
    {
      "cell_type": "code",
      "source": [
        "# Load the training data\n",
        "train_data = pd.read_csv('train.csv')"
      ],
      "metadata": {
        "id": "b85F_Zp6lBJ7"
      },
      "execution_count": 2,
      "outputs": []
    },
    {
      "cell_type": "code",
      "source": [
        "train_data['instock_date'] = pd.to_datetime(train_data['instock_date']).astype(int) / 10**9\n",
        "train_data['stock_update_date'] = pd.to_datetime(train_data['stock_update_date']).astype(int) / 10**9\n"
      ],
      "metadata": {
        "id": "clT7IriIlBSV"
      },
      "execution_count": 9,
      "outputs": []
    },
    {
      "cell_type": "code",
      "source": [
        "# Drop irrelevant columns\n",
        "train_data = train_data.drop(['gift_id'], axis=1)"
      ],
      "metadata": {
        "id": "XYt_dOcBlWXu"
      },
      "execution_count": 10,
      "outputs": []
    },
    {
      "cell_type": "code",
      "source": [
        "# Handle missing values\n",
        "train_data = train_data.dropna()"
      ],
      "metadata": {
        "id": "bqzz1muTnLjV"
      },
      "execution_count": 17,
      "outputs": []
    },
    {
      "cell_type": "code",
      "source": [
        "# Convert categorical variables into numerical format using one-hot encoding\n",
        "train_data = pd.get_dummies(train_data, drop_first=True)"
      ],
      "metadata": {
        "id": "iSgsve9RlWdV"
      },
      "execution_count": 11,
      "outputs": []
    },
    {
      "cell_type": "code",
      "source": [
        "# Split the data into input features (X) and target variable (y)\n",
        "X = train_data.drop('price', axis=1)\n",
        "y = train_data['price']"
      ],
      "metadata": {
        "id": "wqGZvQ4AmhWJ"
      },
      "execution_count": 12,
      "outputs": []
    },
    {
      "cell_type": "code",
      "source": [
        "# Handle missing or invalid values in the target variable\n",
        "y = y.replace([np.inf, -np.inf], np.nan).fillna(0)"
      ],
      "metadata": {
        "id": "d-iyLjxYmhZs"
      },
      "execution_count": 22,
      "outputs": []
    },
    {
      "cell_type": "code",
      "source": [
        "# Model Training\n",
        "from sklearn.linear_model import LinearRegression\n",
        "model = LinearRegression()\n",
        "model.fit(X_train, y_train)\n",
        "\n",
        "\n",
        "\n",
        "# Make predictions on the testing set\n",
        "y_pred = model.predict(X_test)\n",
        "print(\"Predicted values:\", y_pred)\n"
      ],
      "metadata": {
        "id": "QDPiuO6PmqXg"
      },
      "execution_count": null,
      "outputs": []
    },
    {
      "cell_type": "code",
      "source": [
        "# Evaluation on validation set\n",
        "y_pred_val = model.predict(X_val)\n",
        "mse = mean_squared_error(y_val, y_pred_val)\n",
        "rmse = mse ** 0.5\n",
        "print(\"Root Mean Square Error (RMSE) on validation set:\", rmse)"
      ],
      "metadata": {
        "id": "gonwCsaWmqZw"
      },
      "execution_count": null,
      "outputs": []
    },
    {
      "cell_type": "code",
      "source": [
        "# Load the test data\n",
        "test_data = pd.read_csv('test.csv')"
      ],
      "metadata": {
        "id": "AZib60vBpaRO"
      },
      "execution_count": 29,
      "outputs": []
    },
    {
      "cell_type": "code",
      "source": [
        "# Preprocessing of test data\n",
        "# Convert datetime columns to numerical representation\n",
        "test_data['instock_date'] = pd.to_datetime(test_data['instock_date']).astype(int) / 10**9\n",
        "test_data['stock_update_date'] = pd.to_datetime(test_data['stock_update_date']).astype(int) / 10**9"
      ],
      "metadata": {
        "id": "UXJS4N3UphKs"
      },
      "execution_count": 30,
      "outputs": []
    },
    {
      "cell_type": "code",
      "source": [
        "# Drop irrelevant columns\n",
        "test_data = test_data.drop(['gift_id'], axis=1)"
      ],
      "metadata": {
        "id": "Vm8tgzODphN4"
      },
      "execution_count": 31,
      "outputs": []
    },
    {
      "cell_type": "code",
      "source": [
        "# Handle missing values\n",
        "test_data = test_data.dropna()\n",
        "\n",
        "# Convert categorical variables into numerical format using one-hot encoding\n",
        "test_data = pd.get_dummies(test_data, drop_first=True)\n"
      ],
      "metadata": {
        "id": "lqGqUHSMplyf"
      },
      "execution_count": 32,
      "outputs": []
    },
    {
      "cell_type": "code",
      "source": [
        "# Make predictions on the test data\n",
        "#y_pred_test = model.predict(test_data)\n",
        "\n",
        "# Align columns of test data with training data\n",
        "test_data_aligned = test_data[X_train.columns]\n",
        "\n",
        "# Make predictions on the test data\n",
        "y_pred_test = model.predict(test_data_aligned)\n"
      ],
      "metadata": {
        "id": "3KTn_-72pl1F"
      },
      "execution_count": null,
      "outputs": []
    },
    {
      "cell_type": "code",
      "source": [
        "# Align test data with training data\n",
        "test_data_aligned = test_data.reindex(columns=X_train.columns, fill_value=0)\n",
        "\n",
        "# Make predictions on the test data\n",
        "y_pred_test = model.predict(test_data_aligned)\n",
        "\n",
        "# Create submission dataframe with 'gift_id' and 'price' columns\n",
        "submission_df = pd.DataFrame({'gift_id': test_data['gift_id'], 'price': y_pred_test})\n",
        "\n",
        "# Save submission dataframe to CSV file\n",
        "submission_df.to_csv('submission.csv', index=False)\n"
      ],
      "metadata": {
        "id": "nYhdOPlxpl3e"
      },
      "execution_count": null,
      "outputs": []
    },
    {
      "cell_type": "code",
      "source": [],
      "metadata": {
        "id": "qlDuVujFpl62"
      },
      "execution_count": null,
      "outputs": []
    }
  ]
}